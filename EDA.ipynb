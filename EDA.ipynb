{
 "cells": [
  {
   "cell_type": "markdown",
   "metadata": {},
   "source": [
    "## Article Level EDA"
   ]
  },
  {
   "cell_type": "code",
   "execution_count": 1,
   "metadata": {},
   "outputs": [],
   "source": [
    "import pandas as pd\n",
    "dataframe = pd.read_csv('Data/datasets-v5/task-1/task1.train.txt', sep=\"\\t\", header=None, \\\n",
    "                        names=[\"text\", \"article_id\", \"label\"])"
   ]
  },
  {
   "cell_type": "code",
   "execution_count": 52,
   "metadata": {},
   "outputs": [
    {
     "data": {
      "image/png": "[encoded data removed]",
      "text/plain": [
       "<Figure size 432x576 with 1 Axes>"
      ]
     },
     "metadata": {
      "needs_background": "light"
     },
     "output_type": "display_data"
    }
   ],
   "source": [
    "import matplotlib.pyplot as plt\n",
    "class_freq_count = []\n",
    "\n",
    "plt.figure(figsize=(6,8))\n",
    "\n",
    "labels = [\"Propaganda\", \"Non-Propaganda\"]\n",
    "class_freq_count.append(dataframe[dataframe[\"label\"] == \"propaganda\"][\"label\"].count())\n",
    "class_freq_count.append(dataframe[dataframe[\"label\"] == \"non-propaganda\"][\"label\"].count())\n",
    "\n",
    "barlist = plt.bar(labels, class_freq_count)\n",
    "barlist[0].set_color('orange')\n",
    "\n",
    "plt.xticks(labels)\n",
    "plt.title('Articles Per Class');\n",
    "\n",
    "plt.show()"
   ]
  },
  {
   "cell_type": "code",
   "execution_count": 30,
   "metadata": {},
   "outputs": [],
   "source": [
    "from glob import iglob\n",
    "import pandas as pd\n",
    "import re\n",
    "import numpy as np\n",
    "\n",
    "data = pd.DataFrame(columns=[\"article_id\", \"article\", \"propaganda\"])\n",
    "technique = dict()\n",
    "\n",
    "for path in iglob(\"Data/datasets-v5/tasks-2-3/train/*\"):\n",
    "    file_name = path.split(\"/\")[-1]\n",
    "    extensions = file_name.split(\".\")\n",
    "    article_id = re.search(\"article([0-9]+)\", extensions[0]).group(1)\n",
    "    if article_id not in data.article_id.values:\n",
    "        data = data.append({\"article_id\" : article_id , \"article\" : '', \"propaganda\" : ''}, ignore_index=True)\n",
    "    if extensions[1] == \"txt\":\n",
    "        with open(path, 'r') as f:\n",
    "            data.loc[data.article_id == article_id, 'article'] = f.read()\n",
    "    elif extensions[1] == \"task2\":\n",
    "        with open(path, 'r') as f:\n",
    "            data.loc[data.article_id == article_id, 'propaganda'] = f.read()\n",
    "    elif extensions[1] == \"task3\":\n",
    "        with open(path, 'r') as f:\n",
    "            lines = f.readlines()\n",
    "            for line in lines:\n",
    "                tech = line.split(\"\\t\")[1]\n",
    "                if tech in technique:\n",
    "                    technique[tech] += 1\n",
    "                else:\n",
    "                    technique[tech] = 1\n",
    "            "
   ]
  },
  {
   "cell_type": "code",
   "execution_count": 31,
   "metadata": {},
   "outputs": [
    {
     "data": {
      "text/html": [
       "<div>\n",
       "<style scoped>\n",
       "    .dataframe tbody tr th:only-of-type {\n",
       "        vertical-align: middle;\n",
       "    }\n",
       "\n",
       "    .dataframe tbody tr th {\n",
       "        vertical-align: top;\n",
       "    }\n",
       "\n",
       "    .dataframe thead th {\n",
       "        text-align: right;\n",
       "    }\n",
       "</style>\n",
       "<table border=\"1\" class=\"dataframe\">\n",
       "  <thead>\n",
       "    <tr style=\"text-align: right;\">\n",
       "      <th></th>\n",
       "      <th>article_id</th>\n",
       "      <th>article</th>\n",
       "      <th>propaganda</th>\n",
       "    </tr>\n",
       "  </thead>\n",
       "  <tbody>\n",
       "    <tr>\n",
       "      <td>0</td>\n",
       "      <td>788173482</td>\n",
       "      <td>Exposing the Deep State Plotters\\n\\nPresident ...</td>\n",
       "      <td>788173482\\t1\\tpropaganda\\n788173482\\t2\\tnon-pr...</td>\n",
       "    </tr>\n",
       "    <tr>\n",
       "      <td>1</td>\n",
       "      <td>701225819</td>\n",
       "      <td>South Florida Muslim Leader Sofian Zakkout’s D...</td>\n",
       "      <td>701225819\\t1\\tnon-propaganda\\n701225819\\t2\\tno...</td>\n",
       "    </tr>\n",
       "    <tr>\n",
       "      <td>2</td>\n",
       "      <td>758477392</td>\n",
       "      <td>US embassy worker in China suffers 'brain inju...</td>\n",
       "      <td>758477392\\t1\\tnon-propaganda\\n758477392\\t2\\tno...</td>\n",
       "    </tr>\n",
       "    <tr>\n",
       "      <td>3</td>\n",
       "      <td>698092698</td>\n",
       "      <td>Las Vegas Shooting: A THIRD Timeline Emerges\\n...</td>\n",
       "      <td>698092698\\t1\\tnon-propaganda\\n698092698\\t2\\tno...</td>\n",
       "    </tr>\n",
       "    <tr>\n",
       "      <td>4</td>\n",
       "      <td>757713354</td>\n",
       "      <td>Not So Fast\\n\\nIt’s got to be either one of th...</td>\n",
       "      <td>757713354\\t1\\tnon-propaganda\\n757713354\\t2\\tno...</td>\n",
       "    </tr>\n",
       "    <tr>\n",
       "      <td>...</td>\n",
       "      <td>...</td>\n",
       "      <td>...</td>\n",
       "      <td>...</td>\n",
       "    </tr>\n",
       "    <tr>\n",
       "      <td>288</td>\n",
       "      <td>754508491</td>\n",
       "      <td>The latest Ebola outbreak in DR Congo has left...</td>\n",
       "      <td>754508491\\t1\\tnon-propaganda\\n754508491\\t2\\tno...</td>\n",
       "    </tr>\n",
       "    <tr>\n",
       "      <td>289</td>\n",
       "      <td>772947654</td>\n",
       "      <td>Newt Gingrich: The truth about Trump, Putin, a...</td>\n",
       "      <td>772947654\\t1\\tnon-propaganda\\n772947654\\t2\\tno...</td>\n",
       "    </tr>\n",
       "    <tr>\n",
       "      <td>290</td>\n",
       "      <td>774904810</td>\n",
       "      <td>Army Colonel: False Flag ‘Gulf of Tonkin Incid...</td>\n",
       "      <td>774904810\\t1\\tnon-propaganda\\n774904810\\t2\\tno...</td>\n",
       "    </tr>\n",
       "    <tr>\n",
       "      <td>291</td>\n",
       "      <td>111111137</td>\n",
       "      <td>Florida shooting: Gun control law moves step c...</td>\n",
       "      <td>111111137\\t1\\tnon-propaganda\\n111111137\\t2\\tno...</td>\n",
       "    </tr>\n",
       "    <tr>\n",
       "      <td>292</td>\n",
       "      <td>7383612089</td>\n",
       "      <td>Trump fires Tillerson, replaces with former to...</td>\n",
       "      <td>7383612089\\t1\\tpropaganda\\n7383612089\\t2\\tnon-...</td>\n",
       "    </tr>\n",
       "  </tbody>\n",
       "</table>\n",
       "<p>293 rows × 3 columns</p>\n",
       "</div>"
      ],
      "text/plain": [
       "     article_id                                            article  \\\n",
       "0     788173482  Exposing the Deep State Plotters\\n\\nPresident ...   \n",
       "1     701225819  South Florida Muslim Leader Sofian Zakkout’s D...   \n",
       "2     758477392  US embassy worker in China suffers 'brain inju...   \n",
       "3     698092698  Las Vegas Shooting: A THIRD Timeline Emerges\\n...   \n",
       "4     757713354  Not So Fast\\n\\nIt’s got to be either one of th...   \n",
       "..          ...                                                ...   \n",
       "288   754508491  The latest Ebola outbreak in DR Congo has left...   \n",
       "289   772947654  Newt Gingrich: The truth about Trump, Putin, a...   \n",
       "290   774904810  Army Colonel: False Flag ‘Gulf of Tonkin Incid...   \n",
       "291   111111137  Florida shooting: Gun control law moves step c...   \n",
       "292  7383612089  Trump fires Tillerson, replaces with former to...   \n",
       "\n",
       "                                            propaganda  \n",
       "0    788173482\\t1\\tpropaganda\\n788173482\\t2\\tnon-pr...  \n",
       "1    701225819\\t1\\tnon-propaganda\\n701225819\\t2\\tno...  \n",
       "2    758477392\\t1\\tnon-propaganda\\n758477392\\t2\\tno...  \n",
       "3    698092698\\t1\\tnon-propaganda\\n698092698\\t2\\tno...  \n",
       "4    757713354\\t1\\tnon-propaganda\\n757713354\\t2\\tno...  \n",
       "..                                                 ...  \n",
       "288  754508491\\t1\\tnon-propaganda\\n754508491\\t2\\tno...  \n",
       "289  772947654\\t1\\tnon-propaganda\\n772947654\\t2\\tno...  \n",
       "290  774904810\\t1\\tnon-propaganda\\n774904810\\t2\\tno...  \n",
       "291  111111137\\t1\\tnon-propaganda\\n111111137\\t2\\tno...  \n",
       "292  7383612089\\t1\\tpropaganda\\n7383612089\\t2\\tnon-...  \n",
       "\n",
       "[293 rows x 3 columns]"
      ]
     },
     "execution_count": 31,
     "metadata": {},
     "output_type": "execute_result"
    }
   ],
   "source": [
    "data"
   ]
  },
  {
   "cell_type": "code",
   "execution_count": 34,
   "metadata": {},
   "outputs": [
    {
     "data": {
      "text/html": [
       "<div>\n",
       "<style scoped>\n",
       "    .dataframe tbody tr th:only-of-type {\n",
       "        vertical-align: middle;\n",
       "    }\n",
       "\n",
       "    .dataframe tbody tr th {\n",
       "        vertical-align: top;\n",
       "    }\n",
       "\n",
       "    .dataframe thead th {\n",
       "        text-align: right;\n",
       "    }\n",
       "</style>\n",
       "<table border=\"1\" class=\"dataframe\">\n",
       "  <thead>\n",
       "    <tr style=\"text-align: right;\">\n",
       "      <th></th>\n",
       "      <th>article_id</th>\n",
       "      <th>article</th>\n",
       "      <th>propaganda</th>\n",
       "    </tr>\n",
       "  </thead>\n",
       "  <tbody>\n",
       "    <tr>\n",
       "      <td>0</td>\n",
       "      <td>788173482</td>\n",
       "      <td>Exposing the Deep State Plotters</td>\n",
       "      <td>propaganda</td>\n",
       "    </tr>\n",
       "    <tr>\n",
       "      <td>1</td>\n",
       "      <td>788173482</td>\n",
       "      <td>President Trump’s sweeping order this week dir...</td>\n",
       "      <td>non-propaganda</td>\n",
       "    </tr>\n",
       "    <tr>\n",
       "      <td>2</td>\n",
       "      <td>788173482</td>\n",
       "      <td>In an interview with Hill.TV yesterday, the pr...</td>\n",
       "      <td>propaganda</td>\n",
       "    </tr>\n",
       "    <tr>\n",
       "      <td>3</td>\n",
       "      <td>788173482</td>\n",
       "      <td>“What we’ve done is a great service to the cou...</td>\n",
       "      <td>propaganda</td>\n",
       "    </tr>\n",
       "    <tr>\n",
       "      <td>4</td>\n",
       "      <td>788173482</td>\n",
       "      <td>“I hope to be able to call this, along with ta...</td>\n",
       "      <td>propaganda</td>\n",
       "    </tr>\n",
       "    <tr>\n",
       "      <td>5</td>\n",
       "      <td>788173482</td>\n",
       "      <td>Trump criticized how the FBI handled the Russi...</td>\n",
       "      <td>non-propaganda</td>\n",
       "    </tr>\n",
       "    <tr>\n",
       "      <td>6</td>\n",
       "      <td>788173482</td>\n",
       "      <td>“They know this is one of the great scandals i...</td>\n",
       "      <td>propaganda</td>\n",
       "    </tr>\n",
       "    <tr>\n",
       "      <td>7</td>\n",
       "      <td>788173482</td>\n",
       "      <td>They used Carter Page as a foil in order to su...</td>\n",
       "      <td>propaganda</td>\n",
       "    </tr>\n",
       "    <tr>\n",
       "      <td>8</td>\n",
       "      <td>788173482</td>\n",
       "      <td>“It’s a hoax, beyond a witch hunt,” Trump said.</td>\n",
       "      <td>propaganda</td>\n",
       "    </tr>\n",
       "    <tr>\n",
       "      <td>9</td>\n",
       "      <td>788173482</td>\n",
       "      <td>The documents affected involve a FISA warrant ...</td>\n",
       "      <td>propaganda</td>\n",
       "    </tr>\n",
       "  </tbody>\n",
       "</table>\n",
       "</div>"
      ],
      "text/plain": [
       "  article_id                                            article  \\\n",
       "0  788173482                   Exposing the Deep State Plotters   \n",
       "1  788173482  President Trump’s sweeping order this week dir...   \n",
       "2  788173482  In an interview with Hill.TV yesterday, the pr...   \n",
       "3  788173482  “What we’ve done is a great service to the cou...   \n",
       "4  788173482  “I hope to be able to call this, along with ta...   \n",
       "5  788173482  Trump criticized how the FBI handled the Russi...   \n",
       "6  788173482  “They know this is one of the great scandals i...   \n",
       "7  788173482  They used Carter Page as a foil in order to su...   \n",
       "8  788173482    “It’s a hoax, beyond a witch hunt,” Trump said.   \n",
       "9  788173482  The documents affected involve a FISA warrant ...   \n",
       "\n",
       "       propaganda  \n",
       "0      propaganda  \n",
       "1  non-propaganda  \n",
       "2      propaganda  \n",
       "3      propaganda  \n",
       "4      propaganda  \n",
       "5  non-propaganda  \n",
       "6      propaganda  \n",
       "7      propaganda  \n",
       "8      propaganda  \n",
       "9      propaganda  "
      ]
     },
     "execution_count": 34,
     "metadata": {},
     "output_type": "execute_result"
    }
   ],
   "source": [
    "clean_data = pd.DataFrame(columns=[\"article_id\", \"article\", \"propaganda\"])\n",
    "\n",
    "def clean_up(row):\n",
    "    res = []\n",
    "    a_id = row[0]\n",
    "    art = row[1].split(\"\\n\")\n",
    "    prop = row[2].split(\"\\n\")\n",
    "    for record in prop:\n",
    "        if record == '':\n",
    "            continue\n",
    "        element = []\n",
    "        propaganda_type = record.split(\"\\t\")\n",
    "        sentence = art[int(propaganda_type[1])-1]\n",
    "        if sentence == '':\n",
    "            continue\n",
    "        element.append(a_id)\n",
    "        element.append(sentence)\n",
    "        element.append(propaganda_type[2])\n",
    "        res.append(element)\n",
    "    res = pd.DataFrame(res, columns=[\"article_id\", \"article\", \"propaganda\"])\n",
    "    return res\n",
    "    \n",
    "sentence_data = data.apply(clean_up, axis=1)\n",
    "\n",
    "for s in sentence_data:\n",
    "    clean_data = clean_data.append(s, ignore_index=True)\n",
    "    \n",
    "clean_data.head(10)"
   ]
  },
  {
   "cell_type": "markdown",
   "metadata": {},
   "source": [
    "## Sentence Level EDA"
   ]
  },
  {
   "cell_type": "code",
   "execution_count": 53,
   "metadata": {},
   "outputs": [
    {
     "data": {
      "image/png": "[encoded data removed]",
      "text/plain": [
       "<Figure size 432x576 with 1 Axes>"
      ]
     },
     "metadata": {
      "needs_background": "light"
     },
     "output_type": "display_data"
    }
   ],
   "source": [
    "class_freq_count = []\n",
    "\n",
    "plt.figure(figsize=(6,8))\n",
    "\n",
    "labels = [\"Propaganda\", \"Non-Propaganda\"]\n",
    "class_freq_count.append(clean_data[clean_data[\"propaganda\"] == \"propaganda\"][\"propaganda\"].count())\n",
    "class_freq_count.append(clean_data[clean_data[\"propaganda\"] == \"non-propaganda\"][\"propaganda\"].count())\n",
    "\n",
    "barlist = plt.bar(labels, class_freq_count)\n",
    "barlist[0].set_color('orange')\n",
    "\n",
    "plt.xticks(labels)\n",
    "plt.title('Sentences Per Class');\n",
    "\n",
    "plt.show()"
   ]
  },
  {
   "cell_type": "code",
   "execution_count": 57,
   "metadata": {},
   "outputs": [
    {
     "data": {
      "image/png": "[encoded data removed]",
      "text/plain": [
       "<Figure size 432x576 with 1 Axes>"
      ]
     },
     "metadata": {
      "needs_background": "light"
     },
     "output_type": "display_data"
    }
   ],
   "source": [
    "\n",
    "class_freq_count = list(technique.values())\n",
    "\n",
    "plt.figure(figsize=(6,8))\n",
    "\n",
    "labels = list(technique.keys())\n",
    "\n",
    "barlist = plt.barh(labels, class_freq_count)\n",
    "\n",
    "plt.yticks(labels)\n",
    "plt.title('# phrases per technique');\n",
    "\n",
    "plt.show()"
   ]
  },
  {
   "cell_type": "code",
   "execution_count": null,
   "metadata": {},
   "outputs": [],
   "source": []
  }
 ],
 "metadata": {
  "kernelspec": {
   "display_name": "Python 3",
   "language": "python",
   "name": "python3"
  },
  "language_info": {
   "codemirror_mode": {
    "name": "ipython",
    "version": 3
   },
   "file_extension": ".py",
   "mimetype": "text/x-python",
   "name": "python",
   "nbconvert_exporter": "python",
   "pygments_lexer": "ipython3",
   "version": "3.7.4"
  }
 },
 "nbformat": 4,
 "nbformat_minor": 2
}
